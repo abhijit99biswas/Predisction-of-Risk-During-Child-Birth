{
 "cells": [
  {
   "cell_type": "markdown",
   "metadata": {},
   "source": [
    "# width shift applied"
   ]
  },
  {
   "cell_type": "code",
   "execution_count": 13,
   "metadata": {},
   "outputs": [
    {
     "name": "stdout",
     "output_type": "stream",
     "text": [
      "(48, 48)\n"
     ]
    }
   ],
   "source": [
    "import numpy as np\n",
    "import cv2\n",
    "import os\n",
    "import dlib\n",
    "import matplotlib.pyplot as plt\n",
    "from numpy import expand_dims\n",
    "from keras.preprocessing.image import load_img\n",
    "from keras.preprocessing.image import img_to_array\n",
    "from keras.preprocessing.image import ImageDataGenerator\n",
    "frames = []\n",
    "output = []\n",
    "for i in range(1,99):\n",
    "    filename='../Images/oknot/okeynot ('+str(i)+').jpg'\n",
    "    img = load_img(filename)\n",
    "    data = img_to_array(img)\n",
    "    samples = expand_dims(data, 0)\n",
    "    datagen = ImageDataGenerator(width_shift_range=[-10,10])\n",
    "    it = datagen.flow(samples, batch_size=1)\n",
    "    for i in range(20):\n",
    "        batch = it.next()\n",
    "        image = batch[0].astype('uint8')\n",
    "        #image_shape=image.shape\n",
    "        gray_image = cv2.cvtColor(image,cv2.COLOR_RGB2GRAY)\n",
    "        image_shape=gray_image.shape\n",
    "        frames.append(gray_image.flatten())\n",
    "        output.append(['notokey'])\n",
    "X = np.array(frames)\n",
    "y = np.array(output)\n",
    "\n",
    "data = np.hstack([y, X])\n",
    "\n",
    "f_name = \"data.npy\"\n",
    "\n",
    "if os.path.exists(f_name):\n",
    "    old = np.load(f_name)\n",
    "    data = np.vstack([old, data])\n",
    "\n",
    "np.save(f_name, data)\n",
    "print(image_shape)"
   ]
  },
  {
   "cell_type": "code",
   "execution_count": 14,
   "metadata": {},
   "outputs": [
    {
     "data": {
      "text/plain": [
       "array([['okey', '128', '128', ..., '127', '99', '49'],\n",
       "       ['okey', '66', '69', ..., '82', '82', '82'],\n",
       "       ['okey', '66', '69', ..., '82', '82', '82'],\n",
       "       ...,\n",
       "       ['notokey', '35', '15', ..., '124', '124', '124'],\n",
       "       ['notokey', '35', '15', ..., '124', '124', '124'],\n",
       "       ['notokey', '42', '42', ..., '108', '110', '112']], dtype='<U7')"
      ]
     },
     "execution_count": 14,
     "metadata": {},
     "output_type": "execute_result"
    }
   ],
   "source": [
    "data=np.load('data.npy')\n",
    "data"
   ]
  },
  {
   "cell_type": "code",
   "execution_count": 15,
   "metadata": {},
   "outputs": [
    {
     "name": "stdout",
     "output_type": "stream",
     "text": [
      "(14980, 2304)\n",
      "['okey' 'okey' 'okey' ... 'notokey' 'notokey' 'notokey']\n"
     ]
    }
   ],
   "source": [
    "X = data[:,1:].astype(int)\n",
    "y = data[:,0]\n",
    "print(X.shape)\n",
    "print(y)"
   ]
  },
  {
   "cell_type": "code",
   "execution_count": 5,
   "metadata": {},
   "outputs": [
    {
     "name": "stdout",
     "output_type": "stream",
     "text": [
      "[[111 112 113 ...  21  21  21]\n",
      " [111 112 114 ...  52  52  52]\n",
      " [110 111 114 ...  45  45  45]\n",
      " ...\n",
      " [102  50  70 ...  69  69  69]\n",
      " [ 82  80  68 ...  67  67  67]\n",
      " [ 81  72  51 ...  62  62  62]]\n"
     ]
    }
   ],
   "source": [
    "from matplotlib import pyplot\n",
    "data = np.load('data.npy')\n",
    "X = data[:,1:].astype(int)\n",
    "y = data[:,0]\n",
    "image=X[1452]\n",
    "resizeimage = np.resize(image,(48,48))\n",
    "print(resizeimage)"
   ]
  },
  {
   "cell_type": "markdown",
   "metadata": {},
   "source": [
    "# Height shift applied"
   ]
  },
  {
   "cell_type": "code",
   "execution_count": 16,
   "metadata": {},
   "outputs": [
    {
     "name": "stdout",
     "output_type": "stream",
     "text": [
      "(48, 48)\n",
      "(16940, 2305)\n"
     ]
    }
   ],
   "source": [
    "import numpy as np\n",
    "import cv2\n",
    "import os\n",
    "import dlib\n",
    "import matplotlib.pyplot as plt\n",
    "frames = []\n",
    "output = []\n",
    "for i in range(1,99):\n",
    "    filename='../Images/oknot/okeynot ('+str(i)+').jpg'\n",
    "    img = load_img(filename)\n",
    "    data = img_to_array(img)\n",
    "    samples = expand_dims(data, 0)\n",
    "    datagen = ImageDataGenerator(height_shift_range=0.3)\n",
    "    it = datagen.flow(samples, batch_size=1)\n",
    "    for i in range(20):\n",
    "        batch = it.next()\n",
    "        image = batch[0].astype('uint8')\n",
    "        #image_shape=image.shape\n",
    "        gray_image = cv2.cvtColor(image,cv2.COLOR_RGB2GRAY)\n",
    "        image_shape=gray_image.shape\n",
    "        frames.append(gray_image.flatten())\n",
    "        output.append(['notokey'])\n",
    "X = np.array(frames)\n",
    "y = np.array(output)\n",
    "\n",
    "data = np.hstack([y, X])\n",
    "\n",
    "f_name = \"data.npy\"\n",
    "\n",
    "if os.path.exists(f_name):\n",
    "    old = np.load(f_name)\n",
    "    data = np.vstack([old, data])\n",
    "\n",
    "np.save(f_name, data)\n",
    "print(image_shape)\n",
    "print(data.shape)"
   ]
  },
  {
   "cell_type": "code",
   "execution_count": null,
   "metadata": {},
   "outputs": [],
   "source": []
  },
  {
   "cell_type": "markdown",
   "metadata": {},
   "source": [
    "# Horizontal flip applied"
   ]
  },
  {
   "cell_type": "code",
   "execution_count": 17,
   "metadata": {},
   "outputs": [
    {
     "name": "stdout",
     "output_type": "stream",
     "text": [
      "(48, 48)\n",
      "(18900, 2305)\n"
     ]
    }
   ],
   "source": [
    "import numpy as np\n",
    "import cv2\n",
    "import os\n",
    "import dlib\n",
    "import matplotlib.pyplot as plt\n",
    "frames = []\n",
    "output = []\n",
    "for i in range(1,99):\n",
    "    filename='../Images/oknot/okeynot ('+str(i)+').jpg'\n",
    "    img = load_img(filename)\n",
    "    data = img_to_array(img)\n",
    "    samples = expand_dims(data, 0)\n",
    "    datagen = ImageDataGenerator(horizontal_flip=True)\n",
    "    it = datagen.flow(samples, batch_size=1)\n",
    "    for i in range(20):\n",
    "        batch = it.next()\n",
    "        image = batch[0].astype('uint8')\n",
    "        #image_shape=image.shape\n",
    "        gray_image = cv2.cvtColor(image,cv2.COLOR_RGB2GRAY)\n",
    "        image_shape=gray_image.shape\n",
    "        frames.append(gray_image.flatten())\n",
    "        output.append(['notokey'])\n",
    "X = np.array(frames)\n",
    "y = np.array(output)\n",
    "\n",
    "data = np.hstack([y, X])\n",
    "\n",
    "f_name = \"data.npy\"\n",
    "\n",
    "if os.path.exists(f_name):\n",
    "    old = np.load(f_name)\n",
    "    data = np.vstack([old, data])\n",
    "\n",
    "np.save(f_name, data)\n",
    "print(image_shape)\n",
    "print(data.shape)"
   ]
  },
  {
   "cell_type": "markdown",
   "metadata": {},
   "source": [
    "# Vertical flip applied"
   ]
  },
  {
   "cell_type": "code",
   "execution_count": 18,
   "metadata": {},
   "outputs": [
    {
     "name": "stdout",
     "output_type": "stream",
     "text": [
      "(48, 48)\n",
      "(20860, 2305)\n"
     ]
    }
   ],
   "source": [
    "import numpy as np\n",
    "import cv2\n",
    "import os\n",
    "import dlib\n",
    "import matplotlib.pyplot as plt\n",
    "frames = []\n",
    "output = []\n",
    "for i in range(1,99):\n",
    "    filename='../Images/oknot/okeynot ('+str(i)+').jpg'\n",
    "    img = load_img(filename)\n",
    "    data = img_to_array(img)\n",
    "    samples = expand_dims(data, 0)\n",
    "    datagen = ImageDataGenerator(vertical_flip=True)\n",
    "    it = datagen.flow(samples, batch_size=1)\n",
    "    for i in range(20):\n",
    "        batch = it.next()\n",
    "        image = batch[0].astype('uint8')\n",
    "        #image_shape=image.shape\n",
    "        gray_image = cv2.cvtColor(image,cv2.COLOR_RGB2GRAY)\n",
    "        image_shape=gray_image.shape\n",
    "        frames.append(gray_image.flatten())\n",
    "        output.append(['notokey'])\n",
    "X = np.array(frames)\n",
    "y = np.array(output)\n",
    "\n",
    "data = np.hstack([y, X])\n",
    "\n",
    "f_name = \"data.npy\"\n",
    "\n",
    "if os.path.exists(f_name):\n",
    "    old = np.load(f_name)\n",
    "    data = np.vstack([old, data])\n",
    "\n",
    "np.save(f_name, data)\n",
    "print(image_shape)\n",
    "print(data.shape)"
   ]
  },
  {
   "cell_type": "markdown",
   "metadata": {},
   "source": [
    "# Random Rotation applied"
   ]
  },
  {
   "cell_type": "code",
   "execution_count": 19,
   "metadata": {},
   "outputs": [
    {
     "name": "stdout",
     "output_type": "stream",
     "text": [
      "(48, 48)\n",
      "(22820, 2305)\n"
     ]
    }
   ],
   "source": [
    "import numpy as np\n",
    "import cv2\n",
    "import os\n",
    "import dlib\n",
    "import matplotlib.pyplot as plt\n",
    "frames = []\n",
    "output = []\n",
    "for i in range(1,99):\n",
    "    filename='../Images/oknot/okeynot ('+str(i)+').jpg'\n",
    "    img = load_img(filename)\n",
    "    data = img_to_array(img)\n",
    "    samples = expand_dims(data, 0)\n",
    "    datagen = ImageDataGenerator(rotation_range=180)\n",
    "    it = datagen.flow(samples, batch_size=1)\n",
    "    for i in range(20):\n",
    "        batch = it.next()\n",
    "        image = batch[0].astype('uint8')\n",
    "        #image_shape=image.shape\n",
    "        gray_image = cv2.cvtColor(image,cv2.COLOR_RGB2GRAY)\n",
    "        image_shape=gray_image.shape\n",
    "        frames.append(gray_image.flatten())\n",
    "        output.append(['notokey'])\n",
    "X = np.array(frames)\n",
    "y = np.array(output)\n",
    "\n",
    "data = np.hstack([y, X])\n",
    "\n",
    "f_name = \"data.npy\"\n",
    "\n",
    "if os.path.exists(f_name):\n",
    "    old = np.load(f_name)\n",
    "    data = np.vstack([old, data])\n",
    "\n",
    "np.save(f_name, data)\n",
    "print(image_shape)\n",
    "print(data.shape)"
   ]
  },
  {
   "cell_type": "markdown",
   "metadata": {},
   "source": [
    "# Random brightness applied"
   ]
  },
  {
   "cell_type": "code",
   "execution_count": 20,
   "metadata": {},
   "outputs": [
    {
     "name": "stdout",
     "output_type": "stream",
     "text": [
      "(48, 48)\n",
      "(24780, 2305)\n"
     ]
    }
   ],
   "source": [
    "import numpy as np\n",
    "import cv2\n",
    "import os\n",
    "import dlib\n",
    "import matplotlib.pyplot as plt\n",
    "frames = []\n",
    "output = []\n",
    "for i in range(1,99):\n",
    "    filename='../Images/oknot/okeynot ('+str(i)+').jpg'\n",
    "    img = load_img(filename)\n",
    "    data = img_to_array(img)\n",
    "    samples = expand_dims(data, 0)\n",
    "    datagen = ImageDataGenerator(brightness_range=[0.1,1.0])\n",
    "    it = datagen.flow(samples, batch_size=1)\n",
    "    for i in range(20):\n",
    "        batch = it.next()\n",
    "        image = batch[0].astype('uint8')\n",
    "        #image_shape=image.shape\n",
    "        gray_image = cv2.cvtColor(image,cv2.COLOR_RGB2GRAY)\n",
    "        image_shape=gray_image.shape\n",
    "        frames.append(gray_image.flatten())\n",
    "        output.append(['notokey'])\n",
    "X = np.array(frames)\n",
    "y = np.array(output)\n",
    "\n",
    "data = np.hstack([y, X])\n",
    "\n",
    "f_name = \"data.npy\"\n",
    "\n",
    "if os.path.exists(f_name):\n",
    "    old = np.load(f_name)\n",
    "    data = np.vstack([old, data])\n",
    "\n",
    "np.save(f_name, data)\n",
    "print(image_shape)\n",
    "print(data.shape)"
   ]
  },
  {
   "cell_type": "markdown",
   "metadata": {},
   "source": [
    "# Random Zoom applied"
   ]
  },
  {
   "cell_type": "code",
   "execution_count": 21,
   "metadata": {},
   "outputs": [
    {
     "name": "stdout",
     "output_type": "stream",
     "text": [
      "(48, 48)\n",
      "(26740, 2305)\n"
     ]
    }
   ],
   "source": [
    "import numpy as np\n",
    "import cv2\n",
    "import os\n",
    "import dlib\n",
    "import matplotlib.pyplot as plt\n",
    "frames = []\n",
    "output = []\n",
    "for i in range(1,99):\n",
    "    filename='../Images/oknot/okeynot ('+str(i)+').jpg'\n",
    "    img = load_img(filename)\n",
    "    data = img_to_array(img)\n",
    "    samples = expand_dims(data, 0)\n",
    "    datagen = ImageDataGenerator(zoom_range=[0.3,1])\n",
    "    it = datagen.flow(samples, batch_size=1)\n",
    "    for i in range(20):\n",
    "        batch = it.next()\n",
    "        image = batch[0].astype('uint8')\n",
    "        #image_shape=image.shape\n",
    "        gray_image = cv2.cvtColor(image,cv2.COLOR_RGB2GRAY)\n",
    "        image_shape=gray_image.shape\n",
    "        frames.append(gray_image.flatten())\n",
    "        output.append(['notokey'])\n",
    "X = np.array(frames)\n",
    "y = np.array(output)\n",
    "\n",
    "data = np.hstack([y, X])\n",
    "\n",
    "f_name = \"data.npy\"\n",
    "\n",
    "if os.path.exists(f_name):\n",
    "    old = np.load(f_name)\n",
    "    data = np.vstack([old, data])\n",
    "\n",
    "np.save(f_name, data)\n",
    "print(image_shape)\n",
    "print(data.shape)"
   ]
  },
  {
   "cell_type": "markdown",
   "metadata": {},
   "source": [
    "# I have totally 26740 data"
   ]
  },
  {
   "cell_type": "markdown",
   "metadata": {},
   "source": [
    "# I have 13020 okey images in 48X48 form "
   ]
  },
  {
   "cell_type": "markdown",
   "metadata": {},
   "source": [
    "# and 13720 not okey images in 48X48 form"
   ]
  },
  {
   "cell_type": "code",
   "execution_count": 22,
   "metadata": {},
   "outputs": [
    {
     "data": {
      "text/plain": [
       "array([['okey', '128', '128', ..., '127', '99', '49'],\n",
       "       ['okey', '66', '69', ..., '82', '82', '82'],\n",
       "       ['okey', '66', '69', ..., '82', '82', '82'],\n",
       "       ...,\n",
       "       ['notokey', '38', '19', ..., '131', '130', '133'],\n",
       "       ['notokey', '46', '68', ..., '153', '155', '155'],\n",
       "       ['notokey', '25', '32', ..., '132', '133', '138']], dtype='<U7')"
      ]
     },
     "execution_count": 22,
     "metadata": {},
     "output_type": "execute_result"
    }
   ],
   "source": [
    "data = np.load('data.npy')\n",
    "data"
   ]
  },
  {
   "cell_type": "code",
   "execution_count": 25,
   "metadata": {},
   "outputs": [
    {
     "data": {
      "text/plain": [
       "(26740, 2305)"
      ]
     },
     "execution_count": 25,
     "metadata": {},
     "output_type": "execute_result"
    }
   ],
   "source": [
    "data.shape"
   ]
  },
  {
   "cell_type": "code",
   "execution_count": 38,
   "metadata": {},
   "outputs": [
    {
     "name": "stdout",
     "output_type": "stream",
     "text": [
      "['okey' 'okey' 'okey' ... 'notokey' 'notokey' 'notokey']\n",
      "(26740,)\n"
     ]
    }
   ],
   "source": [
    "x = data[:,0]\n",
    "print(x)\n",
    "print(x.shape)"
   ]
  },
  {
   "cell_type": "code",
   "execution_count": 37,
   "metadata": {},
   "outputs": [
    {
     "name": "stdout",
     "output_type": "stream",
     "text": [
      "[['128' '128' '128' ... '127' '99' '49']\n",
      " ['66' '69' '81' ... '82' '82' '82']\n",
      " ['66' '69' '81' ... '82' '82' '82']\n",
      " ...\n",
      " ['38' '19' '11' ... '131' '130' '133']\n",
      " ['46' '68' '83' ... '153' '155' '155']\n",
      " ['25' '32' '38' ... '132' '133' '138']]\n",
      "(26740, 2304)\n"
     ]
    }
   ],
   "source": [
    "y = data[:,1:]\n",
    "print(y)\n",
    "print(y.shape)"
   ]
  },
  {
   "cell_type": "code",
   "execution_count": null,
   "metadata": {},
   "outputs": [],
   "source": []
  }
 ],
 "metadata": {
  "kernelspec": {
   "display_name": "Python 3",
   "language": "python",
   "name": "python3"
  },
  "language_info": {
   "codemirror_mode": {
    "name": "ipython",
    "version": 3
   },
   "file_extension": ".py",
   "mimetype": "text/x-python",
   "name": "python",
   "nbconvert_exporter": "python",
   "pygments_lexer": "ipython3",
   "version": "3.7.9"
  }
 },
 "nbformat": 4,
 "nbformat_minor": 4
}

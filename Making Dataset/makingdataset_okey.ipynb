{
 "cells": [
  {
   "cell_type": "markdown",
   "metadata": {},
   "source": [
    "# width shift applied"
   ]
  },
  {
   "cell_type": "code",
   "execution_count": 2,
   "metadata": {},
   "outputs": [
    {
     "name": "stdout",
     "output_type": "stream",
     "text": [
      "(48, 48)\n"
     ]
    }
   ],
   "source": [
    "import numpy as np\n",
    "import cv2\n",
    "import os\n",
    "import dlib\n",
    "import matplotlib.pyplot as plt\n",
    "from numpy import expand_dims\n",
    "from keras.preprocessing.image import load_img\n",
    "from keras.preprocessing.image import img_to_array\n",
    "from keras.preprocessing.image import ImageDataGenerator\n",
    "frames = []\n",
    "output = []\n",
    "for i in range(1,94):\n",
    "    filename='../Images/okey/okey ('+str(i)+').jpg'\n",
    "    img = load_img(filename)\n",
    "    data = img_to_array(img)\n",
    "    samples = expand_dims(data, 0)\n",
    "    datagen = ImageDataGenerator(width_shift_range=[-10,10])\n",
    "    it = datagen.flow(samples, batch_size=1)\n",
    "    for i in range(20):\n",
    "        batch = it.next()\n",
    "        image = batch[0].astype('uint8')\n",
    "        #image_shape=image.shape\n",
    "        gray_image = cv2.cvtColor(image,cv2.COLOR_RGB2GRAY)\n",
    "        image_shape=gray_image.shape\n",
    "        frames.append(gray_image.flatten())\n",
    "        output.append(['okey'])\n",
    "X = np.array(frames)\n",
    "y = np.array(output)\n",
    "\n",
    "data = np.hstack([y, X])\n",
    "\n",
    "f_name = \"data.npy\"\n",
    "\n",
    "if os.path.exists(f_name):\n",
    "    old = np.load(f_name)\n",
    "    data = np.vstack([old, data])\n",
    "\n",
    "np.save(f_name, data)\n",
    "print(image_shape)"
   ]
  },
  {
   "cell_type": "code",
   "execution_count": 3,
   "metadata": {},
   "outputs": [
    {
     "data": {
      "text/plain": [
       "array([['okey', '128', '128', ..., '127', '99', '49'],\n",
       "       ['okey', '66', '69', ..., '82', '82', '82'],\n",
       "       ['okey', '66', '69', ..., '82', '82', '82'],\n",
       "       ...,\n",
       "       ['okey', '118', '120', ..., '26', '26', '26'],\n",
       "       ['okey', '118', '120', ..., '26', '26', '26'],\n",
       "       ['okey', '118', '120', ..., '26', '26', '26']], dtype='<U4')"
      ]
     },
     "execution_count": 3,
     "metadata": {},
     "output_type": "execute_result"
    }
   ],
   "source": [
    "data=np.load('data.npy')\n",
    "data"
   ]
  },
  {
   "cell_type": "code",
   "execution_count": 4,
   "metadata": {},
   "outputs": [
    {
     "name": "stdout",
     "output_type": "stream",
     "text": [
      "(1860, 2304)\n",
      "['okey' 'okey' 'okey' ... 'okey' 'okey' 'okey']\n"
     ]
    }
   ],
   "source": [
    "X = data[:,1:].astype(int)\n",
    "y = data[:,0]\n",
    "print(X.shape)\n",
    "print(y)"
   ]
  },
  {
   "cell_type": "code",
   "execution_count": 5,
   "metadata": {},
   "outputs": [
    {
     "name": "stdout",
     "output_type": "stream",
     "text": [
      "[[111 112 113 ...  21  21  21]\n",
      " [111 112 114 ...  52  52  52]\n",
      " [110 111 114 ...  45  45  45]\n",
      " ...\n",
      " [102  50  70 ...  69  69  69]\n",
      " [ 82  80  68 ...  67  67  67]\n",
      " [ 81  72  51 ...  62  62  62]]\n"
     ]
    }
   ],
   "source": [
    "from matplotlib import pyplot\n",
    "data = np.load('data.npy')\n",
    "X = data[:,1:].astype(int)\n",
    "y = data[:,0]\n",
    "image=X[1452]\n",
    "resizeimage = np.resize(image,(48,48))\n",
    "print(resizeimage)"
   ]
  },
  {
   "cell_type": "markdown",
   "metadata": {},
   "source": [
    "# Height shift applied"
   ]
  },
  {
   "cell_type": "code",
   "execution_count": 6,
   "metadata": {},
   "outputs": [
    {
     "name": "stdout",
     "output_type": "stream",
     "text": [
      "(48, 48)\n",
      "(3720, 2305)\n"
     ]
    }
   ],
   "source": [
    "import numpy as np\n",
    "import cv2\n",
    "import os\n",
    "import dlib\n",
    "import matplotlib.pyplot as plt\n",
    "frames = []\n",
    "output = []\n",
    "for i in range(1,94):\n",
    "    filename='../Images/okey/okey ('+str(i)+').jpg'\n",
    "    img = load_img(filename)\n",
    "    data = img_to_array(img)\n",
    "    samples = expand_dims(data, 0)\n",
    "    datagen = ImageDataGenerator(height_shift_range=0.3)\n",
    "    it = datagen.flow(samples, batch_size=1)\n",
    "    for i in range(20):\n",
    "        batch = it.next()\n",
    "        image = batch[0].astype('uint8')\n",
    "        #image_shape=image.shape\n",
    "        gray_image = cv2.cvtColor(image,cv2.COLOR_RGB2GRAY)\n",
    "        image_shape=gray_image.shape\n",
    "        frames.append(gray_image.flatten())\n",
    "        output.append(['okey'])\n",
    "X = np.array(frames)\n",
    "y = np.array(output)\n",
    "\n",
    "data = np.hstack([y, X])\n",
    "\n",
    "f_name = \"data.npy\"\n",
    "\n",
    "if os.path.exists(f_name):\n",
    "    old = np.load(f_name)\n",
    "    data = np.vstack([old, data])\n",
    "\n",
    "np.save(f_name, data)\n",
    "print(image_shape)\n",
    "print(data.shape)"
   ]
  },
  {
   "cell_type": "code",
   "execution_count": null,
   "metadata": {},
   "outputs": [],
   "source": [
    "\n"
   ]
  },
  {
   "cell_type": "markdown",
   "metadata": {},
   "source": [
    "# Horizontal flip applied"
   ]
  },
  {
   "cell_type": "code",
   "execution_count": 9,
   "metadata": {},
   "outputs": [
    {
     "name": "stdout",
     "output_type": "stream",
     "text": [
      "(48, 48)\n",
      "(5580, 2305)\n"
     ]
    }
   ],
   "source": [
    "import numpy as np\n",
    "import cv2\n",
    "import os\n",
    "import dlib\n",
    "import matplotlib.pyplot as plt\n",
    "frames = []\n",
    "output = []\n",
    "for i in range(1,94):\n",
    "    filename='../Images/okey/okey ('+str(i)+').jpg'\n",
    "    img = load_img(filename)\n",
    "    data = img_to_array(img)\n",
    "    samples = expand_dims(data, 0)\n",
    "    datagen = ImageDataGenerator(horizontal_flip=True)\n",
    "    it = datagen.flow(samples, batch_size=1)\n",
    "    for i in range(20):\n",
    "        batch = it.next()\n",
    "        image = batch[0].astype('uint8')\n",
    "        #image_shape=image.shape\n",
    "        gray_image = cv2.cvtColor(image,cv2.COLOR_RGB2GRAY)\n",
    "        image_shape=gray_image.shape\n",
    "        frames.append(gray_image.flatten())\n",
    "        output.append(['okey'])\n",
    "X = np.array(frames)\n",
    "y = np.array(output)\n",
    "\n",
    "data = np.hstack([y, X])\n",
    "\n",
    "f_name = \"data.npy\"\n",
    "\n",
    "if os.path.exists(f_name):\n",
    "    old = np.load(f_name)\n",
    "    data = np.vstack([old, data])\n",
    "\n",
    "np.save(f_name, data)\n",
    "print(image_shape)\n",
    "print(data.shape)"
   ]
  },
  {
   "cell_type": "markdown",
   "metadata": {},
   "source": [
    "# Vertical flip applied"
   ]
  },
  {
   "cell_type": "code",
   "execution_count": 10,
   "metadata": {},
   "outputs": [
    {
     "name": "stdout",
     "output_type": "stream",
     "text": [
      "(48, 48)\n",
      "(7440, 2305)\n"
     ]
    }
   ],
   "source": [
    "import numpy as np\n",
    "import cv2\n",
    "import os\n",
    "import dlib\n",
    "import matplotlib.pyplot as plt\n",
    "frames = []\n",
    "output = []\n",
    "for i in range(1,94):\n",
    "    filename='../Images/okey/okey ('+str(i)+').jpg'\n",
    "    img = load_img(filename)\n",
    "    data = img_to_array(img)\n",
    "    samples = expand_dims(data, 0)\n",
    "    datagen = ImageDataGenerator(vertical_flip=True)\n",
    "    it = datagen.flow(samples, batch_size=1)\n",
    "    for i in range(20):\n",
    "        batch = it.next()\n",
    "        image = batch[0].astype('uint8')\n",
    "        #image_shape=image.shape\n",
    "        gray_image = cv2.cvtColor(image,cv2.COLOR_RGB2GRAY)\n",
    "        image_shape=gray_image.shape\n",
    "        frames.append(gray_image.flatten())\n",
    "        output.append(['okey'])\n",
    "X = np.array(frames)\n",
    "y = np.array(output)\n",
    "\n",
    "data = np.hstack([y, X])\n",
    "\n",
    "f_name = \"data.npy\"\n",
    "\n",
    "if os.path.exists(f_name):\n",
    "    old = np.load(f_name)\n",
    "    data = np.vstack([old, data])\n",
    "\n",
    "np.save(f_name, data)\n",
    "print(image_shape)\n",
    "print(data.shape)"
   ]
  },
  {
   "cell_type": "markdown",
   "metadata": {},
   "source": [
    "# Random Rotation applied"
   ]
  },
  {
   "cell_type": "code",
   "execution_count": 11,
   "metadata": {},
   "outputs": [
    {
     "name": "stdout",
     "output_type": "stream",
     "text": [
      "(48, 48)\n",
      "(9300, 2305)\n"
     ]
    }
   ],
   "source": [
    "import numpy as np\n",
    "import cv2\n",
    "import os\n",
    "import dlib\n",
    "import matplotlib.pyplot as plt\n",
    "frames = []\n",
    "output = []\n",
    "for i in range(1,94):\n",
    "    filename='../Images/okey/okey ('+str(i)+').jpg'\n",
    "    img = load_img(filename)\n",
    "    data = img_to_array(img)\n",
    "    samples = expand_dims(data, 0)\n",
    "    datagen = ImageDataGenerator(rotation_range=180)\n",
    "    it = datagen.flow(samples, batch_size=1)\n",
    "    for i in range(20):\n",
    "        batch = it.next()\n",
    "        image = batch[0].astype('uint8')\n",
    "        #image_shape=image.shape\n",
    "        gray_image = cv2.cvtColor(image,cv2.COLOR_RGB2GRAY)\n",
    "        image_shape=gray_image.shape\n",
    "        frames.append(gray_image.flatten())\n",
    "        output.append(['okey'])\n",
    "X = np.array(frames)\n",
    "y = np.array(output)\n",
    "\n",
    "data = np.hstack([y, X])\n",
    "\n",
    "f_name = \"data.npy\"\n",
    "\n",
    "if os.path.exists(f_name):\n",
    "    old = np.load(f_name)\n",
    "    data = np.vstack([old, data])\n",
    "\n",
    "np.save(f_name, data)\n",
    "print(image_shape)\n",
    "print(data.shape)"
   ]
  },
  {
   "cell_type": "markdown",
   "metadata": {},
   "source": [
    "# Random brightness applied"
   ]
  },
  {
   "cell_type": "code",
   "execution_count": 12,
   "metadata": {},
   "outputs": [
    {
     "name": "stdout",
     "output_type": "stream",
     "text": [
      "(48, 48)\n",
      "(11160, 2305)\n"
     ]
    }
   ],
   "source": [
    "import numpy as np\n",
    "import cv2\n",
    "import os\n",
    "import dlib\n",
    "import matplotlib.pyplot as plt\n",
    "frames = []\n",
    "output = []\n",
    "for i in range(1,94):\n",
    "    filename='../Images/okey/okey ('+str(i)+').jpg'\n",
    "    img = load_img(filename)\n",
    "    data = img_to_array(img)\n",
    "    samples = expand_dims(data, 0)\n",
    "    datagen = ImageDataGenerator(brightness_range=[0.1,1.0])\n",
    "    it = datagen.flow(samples, batch_size=1)\n",
    "    for i in range(20):\n",
    "        batch = it.next()\n",
    "        image = batch[0].astype('uint8')\n",
    "        #image_shape=image.shape\n",
    "        gray_image = cv2.cvtColor(image,cv2.COLOR_RGB2GRAY)\n",
    "        image_shape=gray_image.shape\n",
    "        frames.append(gray_image.flatten())\n",
    "        output.append(['okey'])\n",
    "X = np.array(frames)\n",
    "y = np.array(output)\n",
    "\n",
    "data = np.hstack([y, X])\n",
    "\n",
    "f_name = \"data.npy\"\n",
    "\n",
    "if os.path.exists(f_name):\n",
    "    old = np.load(f_name)\n",
    "    data = np.vstack([old, data])\n",
    "\n",
    "np.save(f_name, data)\n",
    "print(image_shape)\n",
    "print(data.shape)"
   ]
  },
  {
   "cell_type": "markdown",
   "metadata": {},
   "source": [
    "# Random Zoom applied"
   ]
  },
  {
   "cell_type": "code",
   "execution_count": 13,
   "metadata": {},
   "outputs": [
    {
     "name": "stdout",
     "output_type": "stream",
     "text": [
      "(48, 48)\n",
      "(13020, 2305)\n"
     ]
    }
   ],
   "source": [
    "import numpy as np\n",
    "import cv2\n",
    "import os\n",
    "import dlib\n",
    "import matplotlib.pyplot as plt\n",
    "frames = []\n",
    "output = []\n",
    "for i in range(1,94):\n",
    "    filename='../Images/okey/okey ('+str(i)+').jpg'\n",
    "    img = load_img(filename)\n",
    "    data = img_to_array(img)\n",
    "    samples = expand_dims(data, 0)\n",
    "    datagen = ImageDataGenerator(zoom_range=[0.3,1])\n",
    "    it = datagen.flow(samples, batch_size=1)\n",
    "    for i in range(20):\n",
    "        batch = it.next()\n",
    "        image = batch[0].astype('uint8')\n",
    "        #image_shape=image.shape\n",
    "        gray_image = cv2.cvtColor(image,cv2.COLOR_RGB2GRAY)\n",
    "        image_shape=gray_image.shape\n",
    "        frames.append(gray_image.flatten())\n",
    "        output.append(['okey'])\n",
    "X = np.array(frames)\n",
    "y = np.array(output)\n",
    "\n",
    "data = np.hstack([y, X])\n",
    "\n",
    "f_name = \"data.npy\"\n",
    "\n",
    "if os.path.exists(f_name):\n",
    "    old = np.load(f_name)\n",
    "    data = np.vstack([old, data])\n",
    "\n",
    "np.save(f_name, data)\n",
    "print(image_shape)\n",
    "print(data.shape)"
   ]
  },
  {
   "cell_type": "code",
   "execution_count": null,
   "metadata": {},
   "outputs": [],
   "source": []
  },
  {
   "cell_type": "markdown",
   "metadata": {},
   "source": [
    "# so we have 13020 okey images in 48X48 form "
   ]
  },
  {
   "cell_type": "code",
   "execution_count": null,
   "metadata": {},
   "outputs": [],
   "source": []
  }
 ],
 "metadata": {
  "kernelspec": {
   "display_name": "Python 3",
   "language": "python",
   "name": "python3"
  },
  "language_info": {
   "codemirror_mode": {
    "name": "ipython",
    "version": 3
   },
   "file_extension": ".py",
   "mimetype": "text/x-python",
   "name": "python",
   "nbconvert_exporter": "python",
   "pygments_lexer": "ipython3",
   "version": "3.7.9"
  }
 },
 "nbformat": 4,
 "nbformat_minor": 4
}
